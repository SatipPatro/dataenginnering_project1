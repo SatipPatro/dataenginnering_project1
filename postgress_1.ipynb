{
 "cells": [
  {
   "cell_type": "code",
   "execution_count": 1,
   "id": "5859e3dd",
   "metadata": {},
   "outputs": [
    {
     "name": "stdout",
     "output_type": "stream",
     "text": [
      "Requirement already satisfied: psycopg2 in c:\\users\\cz0146\\appdata\\local\\programs\\python\\python311\\lib\\site-packages (2.9.6)\n"
     ]
    }
   ],
   "source": [
    "!pip install psycopg2"
   ]
  },
  {
   "cell_type": "code",
   "execution_count": 9,
   "id": "7fd81226",
   "metadata": {},
   "outputs": [],
   "source": [
    "#import library\n",
    "import psycopg2 as psy"
   ]
  },
  {
   "cell_type": "code",
   "execution_count": 10,
   "id": "901ba47f",
   "metadata": {},
   "outputs": [],
   "source": [
    "#connecting to the default database\n",
    "try:\n",
    "    conn = psy.connect(\"host=127.0.0.1 dbname=postgres \\\n",
    "    port=5432 user=postgres password=12345\")\n",
    "except psy.Error as e:\n",
    "    print(\"Error: could not make connection to the postgres db\")\n",
    "    print(e)"
   ]
  },
  {
   "cell_type": "code",
   "execution_count": 11,
   "id": "a33d751d",
   "metadata": {},
   "outputs": [],
   "source": [
    "#make a cursor for the db connection reference\n",
    "try:\n",
    "    cur = conn.cursor()\n",
    "except psy.Error as e:\n",
    "    print(\"Error: Could not get curser of the database connection\")\n",
    "    print(e)"
   ]
  },
  {
   "cell_type": "code",
   "execution_count": 12,
   "id": "a6d225b4",
   "metadata": {},
   "outputs": [],
   "source": [
    "#set autocommit on\n",
    "conn.set_session(autocommit=True)"
   ]
  },
  {
   "cell_type": "code",
   "execution_count": 13,
   "id": "c45249e8",
   "metadata": {},
   "outputs": [
    {
     "name": "stdout",
     "output_type": "stream",
     "text": [
      "database \"myfirstdb\" already exists\n",
      "\n"
     ]
    }
   ],
   "source": [
    "#create database in db server to work upon\n",
    "try:\n",
    "    cur.execute(\"create database myfirstdb\")\n",
    "except psy.Error as e:\n",
    "    print(e)"
   ]
  },
  {
   "cell_type": "code",
   "execution_count": 14,
   "id": "a01a6f75",
   "metadata": {},
   "outputs": [],
   "source": [
    "#close the current connection to default DB\n",
    "try:\n",
    "    conn.close()\n",
    "except psy.Error as e:\n",
    "    print(e)"
   ]
  },
  {
   "cell_type": "code",
   "execution_count": 16,
   "id": "51d8d8a5",
   "metadata": {},
   "outputs": [],
   "source": [
    "#connect to new crated db\n",
    "try:\n",
    "    conn = psy.connect(\"host=127.0.0.1 dbname=myfirstdb \\\n",
    "    port=5432 user=postgres password=12345\")\n",
    "except psy.Error as e:\n",
    "    print(\"Error: Could not make connection to the myfirstdb in potgres db server\")\n",
    "    print(e)\n",
    "    \n",
    "#connect cursor to the new connection\n",
    "try:\n",
    "    cur=conn.cursor()\n",
    "except psy.Error as e:\n",
    "    print(\"Error: Not able to connection through the cursor\")\n",
    "    print(e)\n",
    "    \n",
    "    \n",
    "conn.set_session(autocommit=True)"
   ]
  },
  {
   "cell_type": "code",
   "execution_count": 17,
   "id": "620b9ceb",
   "metadata": {},
   "outputs": [],
   "source": [
    "#creating a new table students with specified columns\n",
    "try:\n",
    "    cur.execute(\"CREATE TABLE IF NOT EXISTs STUDENTS \\\n",
    "    (student_id int,name varchar,age int,gender varchar,subject varchar,marks int);\")\n",
    "except psy.Error as e:\n",
    "    print(\"Error: Issue Creating Table\")\n",
    "    print(e)"
   ]
  },
  {
   "cell_type": "code",
   "execution_count": 18,
   "id": "0d448a5b",
   "metadata": {},
   "outputs": [],
   "source": [
    "#inserting new values to newly created table\n",
    "try:\n",
    "    cur.execute(\"Insert into students (student_id,name,age,gender,subject,marks) \\\n",
    "    values (%s,%s,%s,%s,%s,%s)\", \\\n",
    "               (1,\"Raj\",23,\"Male\",\"Python\",85))\n",
    "except psy.Error as e:\n",
    "    print(\"Error: Inserting Rows\")\n",
    "    print(e)\n",
    "    \n",
    "try:\n",
    "    cur.execute(\"Insert into students (student_id,name,age,gender,subject,marks) \\\n",
    "    values (%s,%s,%s,%s,%s,%s)\", \\\n",
    "               (2,\"Priyanka\",21,\"Female\",\"Python\",87))\n",
    "except psy.Error as e:\n",
    "    print(\"Error: Inserting Rows\")\n",
    "    print(e)\n"
   ]
  },
  {
   "cell_type": "code",
   "execution_count": 19,
   "id": "3d7bf655",
   "metadata": {},
   "outputs": [
    {
     "name": "stdout",
     "output_type": "stream",
     "text": [
      "(1, 'Raj', 23, 'Male', 'Python', 85)\n",
      "(2, 'Priyanka', 21, 'Female', 'Python', 87)\n",
      "(1, 'Raj', 23, 'Male', 'Python', 85)\n",
      "(2, 'Priyanka', 21, 'Female', 'Python', 87)\n"
     ]
    }
   ],
   "source": [
    "#validate data\n",
    "try:\n",
    "    cur.execute(\"select * from students;\")\n",
    "except psy.Error as e:\n",
    "    print(\"Error: check your select query\")\n",
    "    print(e)\n",
    "    \n",
    "row=cur.fetchone()\n",
    "while row:\n",
    "    print(row)\n",
    "    row=cur.fetchone()"
   ]
  },
  {
   "cell_type": "code",
   "execution_count": 20,
   "id": "1bf44594",
   "metadata": {},
   "outputs": [],
   "source": [
    "cur.close()\n",
    "conn.close()"
   ]
  },
  {
   "cell_type": "code",
   "execution_count": null,
   "id": "cbd69656",
   "metadata": {},
   "outputs": [],
   "source": []
  }
 ],
 "metadata": {
  "kernelspec": {
   "display_name": "Python 3 (ipykernel)",
   "language": "python",
   "name": "python3"
  },
  "language_info": {
   "codemirror_mode": {
    "name": "ipython",
    "version": 3
   },
   "file_extension": ".py",
   "mimetype": "text/x-python",
   "name": "python",
   "nbconvert_exporter": "python",
   "pygments_lexer": "ipython3",
   "version": "3.11.2"
  }
 },
 "nbformat": 4,
 "nbformat_minor": 5
}
